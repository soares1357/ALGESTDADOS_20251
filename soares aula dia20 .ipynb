{
  "nbformat": 4,
  "nbformat_minor": 0,
  "metadata": {
    "colab": {
      "provenance": [],
      "authorship_tag": "ABX9TyN7OI3JrdERdYW9KlsIqos/",
      "include_colab_link": true
    },
    "kernelspec": {
      "name": "python3",
      "display_name": "Python 3"
    },
    "language_info": {
      "name": "python"
    }
  },
  "cells": [
    {
      "cell_type": "markdown",
      "metadata": {
        "id": "view-in-github",
        "colab_type": "text"
      },
      "source": [
        "<a href=\"https://colab.research.google.com/github/soares1357/ALGESTDADOS_20251/blob/main/soares%20aula%20dia20%20.ipynb\" target=\"_parent\"><img src=\"https://colab.research.google.com/assets/colab-badge.svg\" alt=\"Open In Colab\"/></a>"
      ]
    },
    {
      "cell_type": "code",
      "execution_count": 3,
      "metadata": {
        "colab": {
          "base_uri": "https://localhost:8080/"
        },
        "id": "aGnYJdbKX2L7",
        "outputId": "de4540f2-e53e-43b5-bb34-003cff3484ff"
      },
      "outputs": [
        {
          "output_type": "stream",
          "name": "stdout",
          "text": [
            "Digite um número: 20\n",
            "O número é maior que 10.\n"
          ]
        }
      ],
      "source": [
        "#1 Peça um número e informe se ele é maior que 10. Crie um algoritimo pyton para fazer essa verificação.\n",
        "\n",
        "numero = int(input(\"Digite um número: \"))\n",
        "if numero > 10:\n",
        "    print(f'O número é maior que 10.')\n",
        "else:\n",
        "    print(f'(numero)não é maior que 10.')"
      ]
    },
    {
      "cell_type": "code",
      "source": [
        "#Peça um número inteiro e informe se ele é par. Crie um algoritmo em Python que verifique se o número é divisível por 2.\n",
        "\n",
        "numero = int(input(\"Digite um número: \"))\n",
        "if numero % 2 == 0:\n",
        "    print(f'O número é par.')\n",
        "else:\n",
        "    print(f'O número é ímpar.')"
      ],
      "metadata": {
        "colab": {
          "base_uri": "https://localhost:8080/"
        },
        "id": "ZNwKwQJ5akOV",
        "outputId": "20386674-5cfd-47fb-c537-bfa32b3d2a9b"
      },
      "execution_count": 4,
      "outputs": [
        {
          "output_type": "stream",
          "name": "stdout",
          "text": [
            "Digite um número: 25\n",
            "O número é ímpar.\n"
          ]
        }
      ]
    },
    {
      "cell_type": "code",
      "source": [
        "#Peça um nome e informe se ele contém a letra \"a\". Crie um algoritmo em Python que faça essa verificação.\n",
        "\n",
        "nome = (input(\"Digite um nome: \"))\n",
        "if \"a\" in nome:\n",
        "\n",
        "   print(f'O nome contém a letra \"a\".')\n",
        "else:\n",
        "    print(f'O nome não contém a letra \"a\".')\n"
      ],
      "metadata": {
        "colab": {
          "base_uri": "https://localhost:8080/"
        },
        "id": "D05ZpYMRbNis",
        "outputId": "bd71e3ea-0c72-4e44-becd-199be534bec6"
      },
      "execution_count": 7,
      "outputs": [
        {
          "output_type": "stream",
          "name": "stdout",
          "text": [
            "Digite um nome: soares\n",
            "O nome contém a letra \"a\".\n"
          ]
        }
      ]
    },
    {
      "cell_type": "code",
      "source": [
        "#Peça um número e informe se ele é múltiplo de 5. Crie um algoritmo em Python que verifique se o número é divisível por 5.\n",
        "\n",
        "numero=int(input(\"digite um numero\"))\n",
        "if numero % 5 == 0:\n",
        "  print(f'o numero é multiplo de 5')\n",
        "\n",
        "else:\n",
        "  print(f'o numero não é multilo de 5')"
      ],
      "metadata": {
        "colab": {
          "base_uri": "https://localhost:8080/"
        },
        "id": "l0Un8lRlc2_e",
        "outputId": "5b6ed2be-e68e-4b05-b58f-717d06842847"
      },
      "execution_count": 12,
      "outputs": [
        {
          "output_type": "stream",
          "name": "stdout",
          "text": [
            "digite um numero5\n",
            "o numero é multiplo de 5\n"
          ]
        }
      ]
    },
    {
      "cell_type": "code",
      "source": [
        "#Peça a temperatura atual e informe se está quente (acima de 30°C) ou frio (30°C ou menos). Crie um algoritmo em Python para essa verificação.\n",
        "\n",
        "from datetime import datetime\n",
        "temperatura = float(input(\"Digite a temperatura atual: \"))\n",
        "if temperatura > 30:\n",
        "    print(f'Está quente.')\n",
        "else:\n",
        "    print(f'Está frio.')"
      ],
      "metadata": {
        "colab": {
          "base_uri": "https://localhost:8080/"
        },
        "id": "7XnCUzcOf75Q",
        "outputId": "6708da6c-3ab0-4050-f2ed-dbae9365f1fe"
      },
      "execution_count": 13,
      "outputs": [
        {
          "output_type": "stream",
          "name": "stdout",
          "text": [
            "Digite a temperatura atual: 32\n",
            "Está quente.\n"
          ]
        }
      ]
    },
    {
      "cell_type": "code",
      "source": [
        "#Peça ao usuário para digitar \"S\" para continuar ou \"N\" para sair e informe a ação correspondente. Crie um algoritmo em Python que faça essa validação e exiba a mensagem correta\n",
        "\n",
        "palavra = input(\"Digite S para continuar ou N para sair: \")\n",
        "if palavra == \"S\":\n",
        "    print(\"Você optou por continuar.\")\n",
        "elif palavra == \"N\":\n",
        "    print(\"Você optou por sair.\")\n",
        "else:\n",
        "    print(\"Opção inválida.\")\n"
      ],
      "metadata": {
        "colab": {
          "base_uri": "https://localhost:8080/"
        },
        "id": "qtUVOm3UghJA",
        "outputId": "3be829fa-2d2a-4651-a4c2-9782dd2a949d"
      },
      "execution_count": 31,
      "outputs": [
        {
          "output_type": "stream",
          "name": "stdout",
          "text": [
            "Digite S para continuar ou N para sair: S\n",
            "Você optou por continuar.\n"
          ]
        }
      ]
    },
    {
      "cell_type": "code",
      "source": [
        "#Peça um número e informe se ele é negativo, zero ou positivo. Crie um algoritmo em Python para classificar o número.\n",
        "\n",
        "numero = int(input('digite o numero'))\n",
        "if numero < 0:\n",
        "    print(f'O número é negativo.')\n",
        "elif numero == 0:\n",
        "    print(f'O número é zero.')\n",
        "else:\n",
        "    print(f'O número é positivo.')\n"
      ],
      "metadata": {
        "colab": {
          "base_uri": "https://localhost:8080/"
        },
        "id": "NEd0E-qMjCMl",
        "outputId": "e66df927-d1c6-4edf-e4ca-3a381800edb4"
      },
      "execution_count": 24,
      "outputs": [
        {
          "output_type": "stream",
          "name": "stdout",
          "text": [
            "digite o numero-6\n",
            "O número é negativo.\n"
          ]
        }
      ]
    },
    {
      "cell_type": "code",
      "source": [
        "#Peça um número de 1 a 7 e informe o dia da semana correspondente. Crie um algoritmo em Python que associe o número ao dia correto.\n",
        "numero = int(input(\"Digite um número de 1 a 7: \"))\n",
        "if numero == 1:\n",
        "    print(\"Domingo\")\n",
        "elif numero == 2:\n",
        "    print(\"Segunda-feira\")\n"
      ],
      "metadata": {
        "colab": {
          "base_uri": "https://localhost:8080/"
        },
        "id": "kzJS-Py4lnG7",
        "outputId": "b9998730-359e-4732-ea64-a5384478e7f3"
      },
      "execution_count": 29,
      "outputs": [
        {
          "output_type": "stream",
          "name": "stdout",
          "text": [
            "Digite um número de 1 a 7: 2\n",
            "Segunda-feira\n"
          ]
        }
      ]
    },
    {
      "cell_type": "code",
      "source": [
        "#Peça um ano e informe se ele é bissexto. Crie um algoritmo em Python que verifique se o ano é divisível por 4 e não por 100, exceto se também for divisível por 400."
      ],
      "metadata": {
        "id": "PGtlRx6XoSq1"
      },
      "execution_count": null,
      "outputs": []
    }
  ]
}