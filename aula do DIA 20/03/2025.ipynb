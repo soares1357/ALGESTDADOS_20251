{
  "nbformat": 4,
  "nbformat_minor": 0,
  "metadata": {
    "colab": {
      "provenance": [],
      "include_colab_link": true
    },
    "kernelspec": {
      "name": "python3",
      "display_name": "Python 3"
    },
    "language_info": {
      "name": "python"
    }
  },
  "cells": [
    {
      "cell_type": "markdown",
      "metadata": {
        "id": "view-in-github",
        "colab_type": "text"
      },
      "source": [
        "<a href=\"https://colab.research.google.com/github/soares1357/ALGESTDADOS_20251/blob/main/aula%20do%20DIA%2020/03/2025.ipynb\" target=\"_parent\"><img src=\"https://colab.research.google.com/assets/colab-badge.svg\" alt=\"Open In Colab\"/></a>"
      ]
    },
    {
      "cell_type": "code",
      "execution_count": null,
      "metadata": {
        "colab": {
          "base_uri": "https://localhost:8080/"
        },
        "id": "7Y_beqBpTFtl",
        "outputId": "f9e5a5ae-dd33-4c5d-8a6f-b5c56007c86f"
      },
      "outputs": [
        {
          "output_type": "stream",
          "name": "stdout",
          "text": [
            "digite um valor4\n",
            "digite outro valor6\n",
            "10\n"
          ]
        }
      ],
      "source": [
        "#1.Peça dois mumeros ao usuário e exiba a soma.\n",
        "\n",
        "soma1=int(input('digite um valor'))\n",
        "soma2 =int( input('digite outro valor'))\n",
        "resultado = soma1 + soma2\n",
        "print(resultado)"
      ]
    },
    {
      "cell_type": "code",
      "source": [
        "#Solicite o primeiro e o último nome do usuário e exiba o nome completo.\n",
        "\n",
        "nome = input('digite o nome')\n",
        "sobrenome =  input('digite o sobrenome')\n",
        "\n",
        "print(f'seu nome é {nome}, seu sobrenome é {sobrenome}')"
      ],
      "metadata": {
        "colab": {
          "base_uri": "https://localhost:8080/"
        },
        "id": "NKw4TjRJUMPT",
        "outputId": "5dbaad1f-cd3e-455e-eb06-b87f6027ded2"
      },
      "execution_count": null,
      "outputs": [
        {
          "output_type": "stream",
          "name": "stdout",
          "text": [
            "digite o nomeAugusto \n",
            "digite o sobrenomeArgento\n",
            "seu nome é Augusto , seu sobrenome é Argento\n"
          ]
        }
      ]
    },
    {
      "cell_type": "code",
      "source": [
        "#Peça uma palavra e um número ao usuário e exiba a palavra repetida esse número de vezes\n",
        "\n",
        "palavra = (input('digite a palavra'))\n",
        "numero = int( input('digite o numero'))\n",
        "resultado = palavra * numero\n",
        "print(resultado)"
      ],
      "metadata": {
        "colab": {
          "base_uri": "https://localhost:8080/"
        },
        "id": "sMiUUZ_CWyuF",
        "outputId": "6501bcb6-6bd1-4914-f726-7d3e5fbb2fc0"
      },
      "execution_count": null,
      "outputs": [
        {
          "output_type": "stream",
          "name": "stdout",
          "text": [
            "digite a palavraEsdruxulo\n",
            "digite o numero4\n",
            "EsdruxuloEsdruxuloEsdruxuloEsdruxulo\n"
          ]
        }
      ]
    },
    {
      "cell_type": "code",
      "source": [
        "#Solicite um texto e exiba-o em letras maiúsculas.\n",
        "\n",
        "texto = input('digite o texto')\n",
        "print(texto.upper())\n",
        "\n"
      ],
      "metadata": {
        "colab": {
          "base_uri": "https://localhost:8080/"
        },
        "id": "1KullKyxcgVf",
        "outputId": "9c0fbef9-1c84-4caf-ea03-53892472c45b"
      },
      "execution_count": null,
      "outputs": [
        {
          "output_type": "stream",
          "name": "stdout",
          "text": [
            "digite o textoi don't know\n",
            "digite o texto hello\n",
            "I DON'T KNOW\n"
          ]
        }
      ]
    },
    {
      "cell_type": "code",
      "source": [
        "#Peça uma palavra e exiba quantos caracteres ela tem.\n",
        "\n",
        "palavra = input('digite a palavra')\n",
        "print(len(palavra))\n"
      ],
      "metadata": {
        "colab": {
          "base_uri": "https://localhost:8080/"
        },
        "id": "o4PhZ2TrgU3r",
        "outputId": "77eeaaaf-8640-4ef4-ee46-5fbba46a3889"
      },
      "execution_count": null,
      "outputs": [
        {
          "output_type": "stream",
          "name": "stdout",
          "text": [
            "digite a palavrata\n",
            "2\n"
          ]
        }
      ]
    },
    {
      "cell_type": "code",
      "source": [
        "#Mostre a data e a hora atuais.\n",
        "from datetime import datetime\n",
        "\n",
        "hora_str = (input('digite a hora'))\n",
        "print(f'a data é {data} e a hora é {hora_str}')\n"
      ],
      "metadata": {
        "colab": {
          "base_uri": "https://localhost:8080/"
        },
        "id": "cXpV_mQ6ifTM",
        "outputId": "eb299c24-4514-4aa7-acf9-7563f80dc6a2"
      },
      "execution_count": null,
      "outputs": [
        {
          "output_type": "stream",
          "name": "stdout",
          "text": [
            "digite a data14/03/2025\n",
            "digite a hora15:01\n",
            "a data é 14/03/2025 e a hora é 15:01\n"
          ]
        }
      ]
    },
    {
      "cell_type": "code",
      "source": [
        " #Solicite o ano de nascimento do usuário e calcule a idade aproximada.\n",
        " from datetime import datetime\n",
        "\n",
        "nascimento = (input('digite a data de nascimento'))\n",
        "diff  = datetime.now() - datetime.strptime(nascimento,'%d/%m/%Y')\n",
        "idade = diff// 365\n",
        "print(idade)\n"
      ],
      "metadata": {
        "id": "AxHKgtJ10ZY6",
        "outputId": "12dbcf25-c8c4-4c59-bf38-95f4006813db",
        "colab": {
          "base_uri": "https://localhost:8080/"
        }
      },
      "execution_count": null,
      "outputs": [
        {
          "output_type": "stream",
          "name": "stdout",
          "text": [
            "digite a data de nascimento27/04/2000\n",
            "24 days, 21:33:13.216062\n"
          ]
        }
      ]
    },
    {
      "cell_type": "code",
      "source": [
        "8. #Peça três números ao usuário e exiba a média aritmética.\n",
        "num1= float(input('digite o primeiro valor:'))\n",
        "num2= float(input('digite o primeiro valor:'))\n",
        "num3= float(input('digite o primeiro valor:'))\n",
        "print((num1+num2+num3)/3)\n",
        "\n",
        "\n"
      ],
      "metadata": {
        "id": "em5bZLKmDJVh",
        "outputId": "68f64c02-708d-446e-bf08-7847fdccda3f",
        "colab": {
          "base_uri": "https://localhost:8080/"
        }
      },
      "execution_count": null,
      "outputs": [
        {
          "output_type": "stream",
          "name": "stdout",
          "text": [
            "digite o primeiro valor:30\n",
            "digite o primeiro valor:40\n",
            "digite o primeiro valor:25\n",
            "31.666666666666668\n"
          ]
        }
      ]
    },
    {
      "cell_type": "code",
      "source": [],
      "metadata": {
        "id": "rrjL-tVJjBY1"
      },
      "execution_count": null,
      "outputs": []
    },
    {
      "cell_type": "code",
      "source": [
        "#Solicite a data de nascimento do usuário no formato AAAA-MM-DD e calcule aproximadamente quantos dias ele já viveu.\n",
        "from datetime import datetime\n",
        "\n",
        "data = input('sua data de nascimento(AAA-MM-DD)')\n",
        "dataconv = datetime.strptime(data,'%Y-%m-%d')\n",
        "dias =  datetime.now() - dataconv\n",
        "print (f'você já viveu')"
      ],
      "metadata": {
        "id": "Gp0rPJpBE_aU"
      },
      "execution_count": null,
      "outputs": []
    },
    {
      "cell_type": "code",
      "source": [],
      "metadata": {
        "id": "p29A2hGjF-BY"
      },
      "execution_count": null,
      "outputs": []
    }
  ]
}