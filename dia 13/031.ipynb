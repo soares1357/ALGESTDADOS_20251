{
  "nbformat": 4,
  "nbformat_minor": 0,
  "metadata": {
    "colab": {
      "provenance": [],
      "authorship_tag": "ABX9TyNIew9cuiQuKmycf9zEgvBy",
      "include_colab_link": true
    },
    "kernelspec": {
      "name": "python3",
      "display_name": "Python 3"
    },
    "language_info": {
      "name": "python"
    }
  },
  "cells": [
    {
      "cell_type": "markdown",
      "metadata": {
        "id": "view-in-github",
        "colab_type": "text"
      },
      "source": [
        "<a href=\"https://colab.research.google.com/github/soares1357/ALGESTDADOS_20251/blob/main/dia%2013/031.ipynb\" target=\"_parent\"><img src=\"https://colab.research.google.com/assets/colab-badge.svg\" alt=\"Open In Colab\"/></a>"
      ]
    },
    {
      "cell_type": "code",
      "execution_count": 1,
      "metadata": {
        "colab": {
          "base_uri": "https://localhost:8080/"
        },
        "id": "7Y_beqBpTFtl",
        "outputId": "f9e5a5ae-dd33-4c5d-8a6f-b5c56007c86f"
      },
      "outputs": [
        {
          "output_type": "stream",
          "name": "stdout",
          "text": [
            "digite um valor4\n",
            "digite outro valor6\n",
            "10\n"
          ]
        }
      ],
      "source": [
        "#1.Peça dois mumeros ao usuário e exiba a soma.\n",
        "\n",
        "soma1=int(input('digite um valor'))\n",
        "soma2 =int( input('digite outro valor'))\n",
        "resultado = soma1 + soma2\n",
        "print(resultado)"
      ]
    },
    {
      "cell_type": "code",
      "source": [
        "#Solicite o primeiro e o último nome do usuário e exiba o nome completo.\n",
        "\n",
        "nome = input('digite o nome')\n",
        "sobrenome =  input('digite o sobrenome')\n",
        "\n",
        "print(f'seu nome é {nome}, seu sobrenome é {sobrenome}')"
      ],
      "metadata": {
        "colab": {
          "base_uri": "https://localhost:8080/"
        },
        "id": "NKw4TjRJUMPT",
        "outputId": "5dbaad1f-cd3e-455e-eb06-b87f6027ded2"
      },
      "execution_count": 4,
      "outputs": [
        {
          "output_type": "stream",
          "name": "stdout",
          "text": [
            "digite o nomeAugusto \n",
            "digite o sobrenomeArgento\n",
            "seu nome é Augusto , seu sobrenome é Argento\n"
          ]
        }
      ]
    },
    {
      "cell_type": "code",
      "source": [
        "#Peça uma palavra e um número ao usuário e exiba a palavra repetida esse número de vezes\n",
        "\n",
        "palavra = (input('digite a palavra'))\n",
        "numero = int( input('digite o numero'))\n",
        "resultado = palavra * numero\n",
        "print(resultado)"
      ],
      "metadata": {
        "colab": {
          "base_uri": "https://localhost:8080/"
        },
        "id": "sMiUUZ_CWyuF",
        "outputId": "6501bcb6-6bd1-4914-f726-7d3e5fbb2fc0"
      },
      "execution_count": 15,
      "outputs": [
        {
          "output_type": "stream",
          "name": "stdout",
          "text": [
            "digite a palavraEsdruxulo\n",
            "digite o numero4\n",
            "EsdruxuloEsdruxuloEsdruxuloEsdruxulo\n"
          ]
        }
      ]
    },
    {
      "cell_type": "code",
      "source": [
        "#Solicite um texto e exiba-o em letras maiúsculas.\n",
        "\n",
        "texto = input('digite o texto')\n",
        "print(texto.upper())\n",
        "\n"
      ],
      "metadata": {
        "colab": {
          "base_uri": "https://localhost:8080/"
        },
        "id": "1KullKyxcgVf",
        "outputId": "9c0fbef9-1c84-4caf-ea03-53892472c45b"
      },
      "execution_count": 16,
      "outputs": [
        {
          "output_type": "stream",
          "name": "stdout",
          "text": [
            "digite o textoi don't know\n",
            "digite o texto hello\n",
            "I DON'T KNOW\n"
          ]
        }
      ]
    },
    {
      "cell_type": "code",
      "source": [
        "#Peça uma palavra e exiba quantos caracteres ela tem.\n",
        "\n",
        "palavra = input('digite a palavra')\n",
        "print(len(palavra))\n"
      ],
      "metadata": {
        "colab": {
          "base_uri": "https://localhost:8080/"
        },
        "id": "o4PhZ2TrgU3r",
        "outputId": "77eeaaaf-8640-4ef4-ee46-5fbba46a3889"
      },
      "execution_count": 22,
      "outputs": [
        {
          "output_type": "stream",
          "name": "stdout",
          "text": [
            "digite a palavrata\n",
            "2\n"
          ]
        }
      ]
    },
    {
      "cell_type": "code",
      "source": [
        "#Mostre a data e a hora atuais.\n",
        "data = (input('digite a data'))\n",
        "hora_str = int(input('digite a hora'))\n",
        "print(f'a data é {data} e a hora é {hora}')\n"
      ],
      "metadata": {
        "colab": {
          "base_uri": "https://localhost:8080/",
          "height": 228
        },
        "id": "cXpV_mQ6ifTM",
        "outputId": "67247037-35bd-45ff-f83e-4aa57e121dac"
      },
      "execution_count": 26,
      "outputs": [
        {
          "name": "stdout",
          "output_type": "stream",
          "text": [
            "digite a data13/03/2023\n",
            "digite a hora14:36\n"
          ]
        },
        {
          "output_type": "error",
          "ename": "ValueError",
          "evalue": "invalid literal for int() with base 10: '14:36'",
          "traceback": [
            "\u001b[0;31m---------------------------------------------------------------------------\u001b[0m",
            "\u001b[0;31mValueError\u001b[0m                                Traceback (most recent call last)",
            "\u001b[0;32m<ipython-input-26-9229708cc9c2>\u001b[0m in \u001b[0;36m<cell line: 0>\u001b[0;34m()\u001b[0m\n\u001b[1;32m      1\u001b[0m \u001b[0;31m#Mostre a data e a hora atuais.\u001b[0m\u001b[0;34m\u001b[0m\u001b[0;34m\u001b[0m\u001b[0m\n\u001b[1;32m      2\u001b[0m \u001b[0mdata\u001b[0m \u001b[0;34m=\u001b[0m \u001b[0;34m(\u001b[0m\u001b[0minput\u001b[0m\u001b[0;34m(\u001b[0m\u001b[0;34m'digite a data'\u001b[0m\u001b[0;34m)\u001b[0m\u001b[0;34m)\u001b[0m\u001b[0;34m\u001b[0m\u001b[0;34m\u001b[0m\u001b[0m\n\u001b[0;32m----> 3\u001b[0;31m \u001b[0mhora_str\u001b[0m \u001b[0;34m=\u001b[0m \u001b[0mint\u001b[0m\u001b[0;34m(\u001b[0m\u001b[0minput\u001b[0m\u001b[0;34m(\u001b[0m\u001b[0;34m'digite a hora'\u001b[0m\u001b[0;34m)\u001b[0m\u001b[0;34m)\u001b[0m\u001b[0;34m\u001b[0m\u001b[0;34m\u001b[0m\u001b[0m\n\u001b[0m\u001b[1;32m      4\u001b[0m \u001b[0mprint\u001b[0m\u001b[0;34m(\u001b[0m\u001b[0;34mf'a data é {data} e a hora é {hora}'\u001b[0m\u001b[0;34m)\u001b[0m\u001b[0;34m\u001b[0m\u001b[0;34m\u001b[0m\u001b[0m\n",
            "\u001b[0;31mValueError\u001b[0m: invalid literal for int() with base 10: '14:36'"
          ]
        }
      ]
    },
    {
      "cell_type": "code",
      "source": [],
      "metadata": {
        "id": "rrjL-tVJjBY1"
      },
      "execution_count": null,
      "outputs": []
    }
  ]
}