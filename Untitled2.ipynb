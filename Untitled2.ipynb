{
  "nbformat": 4,
  "nbformat_minor": 0,
  "metadata": {
    "colab": {
      "provenance": [],
      "authorship_tag": "ABX9TyOEdsYHDf6irKMw1VBrlOwj",
      "include_colab_link": true
    },
    "kernelspec": {
      "name": "python3",
      "display_name": "Python 3"
    },
    "language_info": {
      "name": "python"
    }
  },
  "cells": [
    {
      "cell_type": "markdown",
      "metadata": {
        "id": "view-in-github",
        "colab_type": "text"
      },
      "source": [
        "<a href=\"https://colab.research.google.com/github/soares1357/ALGESTDADOS_20251/blob/main/Untitled2.ipynb\" target=\"_parent\"><img src=\"https://colab.research.google.com/assets/colab-badge.svg\" alt=\"Open In Colab\"/></a>"
      ]
    },
    {
      "cell_type": "code",
      "execution_count": 1,
      "metadata": {
        "colab": {
          "base_uri": "https://localhost:8080/"
        },
        "id": "rNYpi0mfy4uh",
        "outputId": "e5fb0143-e993-48ce-b9b1-1970516caefe"
      },
      "outputs": [
        {
          "output_type": "stream",
          "name": "stdout",
          "text": [
            "O ano atual é: 2025\n"
          ]
        }
      ],
      "source": [
        "# Escreva um código completo em Python que utilize a biblioteca DATETIME para obter e exibir o ano atual na tela.\n",
        "from datetime import datetime\n",
        "\n",
        "ano_atual = datetime.now().year\n",
        "print(\"O ano atual é:\", ano_atual)\n"
      ]
    },
    {
      "cell_type": "code",
      "source": [
        "#Escreva um programa em Python que utilize um laço for para imprimir os números de 1 a 10. O programa deve pular os números múltiplos de 3 utilizando a estrutura condicional apropriada.\n",
        "for numero in range(1, 11):\n",
        "    if numero % 3 == 0:\n",
        "        continue\n",
        "    print(numero)"
      ],
      "metadata": {
        "colab": {
          "base_uri": "https://localhost:8080/"
        },
        "id": "SBK5rUDmzmL5",
        "outputId": "6f639182-ca21-4315-fbb9-6162b619eec9"
      },
      "execution_count": 2,
      "outputs": [
        {
          "output_type": "stream",
          "name": "stdout",
          "text": [
            "1\n",
            "2\n",
            "4\n",
            "5\n",
            "7\n",
            "8\n",
            "10\n"
          ]
        }
      ]
    },
    {
      "cell_type": "code",
      "source": [
        "#QUESTÃO 9 (3 PONTOS) – A função INPUT() em Python é usada para receber entrada do usuário. Ela exibe uma mensagem (prompt), aguarda o que for digitado pelo teclado e retorna o valor como uma STRING.\n",
        "#Crie um algoritmo em Python que solicite ao usuário uma frase qualquer. O programa deve contar a quantidade de caracteres digitados, mas só deve exibir esse número se a frase tiver mais de 10 caracteres.\n",
        "frase = input(\"Digite uma frase: \")\n",
        "if len(frase) > 10:\n",
        "    print(\"Quantidade de caracteres:\", len(frase))\n"
      ],
      "metadata": {
        "colab": {
          "base_uri": "https://localhost:8080/"
        },
        "id": "E9sZqzZ10EDn",
        "outputId": "08b69726-c09a-48c1-8e3d-82a2b1df3dd9"
      },
      "execution_count": 5,
      "outputs": [
        {
          "output_type": "stream",
          "name": "stdout",
          "text": [
            "Digite uma frase: vou ficar louco \n",
            "Quantidade de caracteres: 16\n"
          ]
        }
      ]
    },
    {
      "cell_type": "code",
      "source": [
        "#QUESTÃO 10 (3 PONTOS) - Em Python, uma variável é um nome associado a um espaço na memória usado para armazenar um único valor por vez. Ela permite guardar informações que podem ser reutilizadas ao longo do programa.Considere duas variáveis chamadas POTE_A e POTE_B. Escreva um algoritmo em Python que solicite ao usuário a inserção de um valor para cada uma dessas variáveis.\n",
        "pote_a = int(input(\"Digite o valor do pote a: \"))\n",
        "pote_b = int(input(\"Digite o valor do pote b: \"))\n",
        "pote_c = pote_a\n",
        "pote_a = pote_b\n",
        "pote_b = pote_c\n",
        "print('pote_a agora é:',pote_a)\n",
        "print('pote_a agora é:', pote_b)"
      ],
      "metadata": {
        "colab": {
          "base_uri": "https://localhost:8080/"
        },
        "id": "O5lCJo_n1IHR",
        "outputId": "8fc329a6-7fe6-4129-9d94-b1aaa716b064"
      },
      "execution_count": 6,
      "outputs": [
        {
          "output_type": "stream",
          "name": "stdout",
          "text": [
            "Digite o valor do pote a: 5\n",
            "Digite o valor do pote b: 3\n",
            "pote_a agora é: 3\n",
            "pote_a agora é: 5\n"
          ]
        }
      ]
    }
  ]
}