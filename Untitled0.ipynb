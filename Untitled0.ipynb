{
  "nbformat": 4,
  "nbformat_minor": 0,
  "metadata": {
    "colab": {
      "provenance": [],
      "authorship_tag": "ABX9TyNzeP8LGHFNd7H+7HIGJNuY",
      "include_colab_link": true
    },
    "kernelspec": {
      "name": "python3",
      "display_name": "Python 3"
    },
    "language_info": {
      "name": "python"
    }
  },
  "cells": [
    {
      "cell_type": "markdown",
      "metadata": {
        "id": "view-in-github",
        "colab_type": "text"
      },
      "source": [
        "<a href=\"https://colab.research.google.com/github/soares1357/ALGESTDADOS_20251/blob/main/Untitled0.ipynb\" target=\"_parent\"><img src=\"https://colab.research.google.com/assets/colab-badge.svg\" alt=\"Open In Colab\"/></a>"
      ]
    },
    {
      "cell_type": "code",
      "execution_count": null,
      "metadata": {
        "colab": {
          "base_uri": "https://localhost:8080/"
        },
        "id": "2z3vPqIxxBm3",
        "outputId": "0db24277-15aa-43c3-855c-18d4b8051da9"
      },
      "outputs": [
        {
          "output_type": "stream",
          "name": "stdout",
          "text": [
            "digite um valor2\n",
            "digite outro valor6\n",
            "8\n"
          ]
        }
      ],
      "source": [
        "numero1=int(input('digite um valor'))\n",
        "numero2 =int( input('digite outro valor'))\n",
        "resultado = numero1 + numero2\n",
        "print(resultado)"
      ]
    },
    {
      "cell_type": "code",
      "source": [
        " peso=float(input('digite o seu peso:'))\n",
        " altura=float(input('digite a altura:' ))\n",
        " #processamento\n",
        " IMC=peso/altura**2\n",
        " #saída\n",
        " print(IMC)\n",
        "\n"
      ],
      "metadata": {
        "colab": {
          "base_uri": "https://localhost:8080/"
        },
        "id": "nLOVLZaH9Keh",
        "outputId": "8004847f-6b51-43f6-8e6f-c7911a75ef44"
      },
      "execution_count": null,
      "outputs": [
        {
          "output_type": "stream",
          "name": "stdout",
          "text": [
            "digite o seu peso:64\n",
            "digite a altura:1.69\n",
            "22.40817898532965\n"
          ]
        }
      ]
    },
    {
      "cell_type": "code",
      "source": [
        "#criar  um progama que informe o nome, a cidade e a idade de um usuário através da ua data de nasci\n",
        "#importando a biblioteca datetime\n",
        "from datetime import datetime\n",
        "\n",
        "#Atribuir um valor textual variável nome\n",
        "nome = input('digite o seu nome: ')\n",
        "\n",
        "#Atribuir um valor textual variável nome\n",
        "cidade = input('digite o nome da cidade: ')\n",
        "\n",
        "#Data de nascimento em formato de texto\n",
        "data_nasc = input('quando você nasceu?(DD/MM/YYY)')\n",
        "\n",
        "#Convertendo a data_nasc para o formato data\n",
        "data_conv = datetime.strptime(data_nasc,'%d/%m/%Y')\n",
        "\n",
        "#Pegando do sistema a data de hoje\n",
        "hoje = datetime.now()\n",
        "\n",
        "#Idade = Data de hoje - Data de Nascimento, em dias, dividido por 365 dias do ano\n",
        "idade = (hoje - data_conv).days // 365\n",
        "\n",
        "print(f'seu nome é {nome}, sua cidade é {cidade} e sua idade é {idade} anos')\n",
        "\n"
      ],
      "metadata": {
        "id": "aWVViqVWRjDN",
        "outputId": "98722675-0c7b-4c25-d373-4661527d851b",
        "colab": {
          "base_uri": "https://localhost:8080/"
        }
      },
      "execution_count": 5,
      "outputs": [
        {
          "output_type": "stream",
          "name": "stdout",
          "text": [
            "digite o seu nome: Soares\n",
            "digite o nome da cidade: Nova Venécia \n",
            "quando você nasceu?(DD/MM/YYY)27/04/2000\n",
            "seu nome é Soares, sua cidade é Nova Venécia  e sua idade é 24 anos\n"
          ]
        }
      ]
    }
  ]
}