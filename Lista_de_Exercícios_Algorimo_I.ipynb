{
  "nbformat": 4,
  "nbformat_minor": 0,
  "metadata": {
    "colab": {
      "provenance": [],
      "include_colab_link": true
    },
    "kernelspec": {
      "name": "python3",
      "display_name": "Python 3"
    },
    "language_info": {
      "name": "python"
    }
  },
  "cells": [
    {
      "cell_type": "markdown",
      "metadata": {
        "id": "view-in-github",
        "colab_type": "text"
      },
      "source": [
        "<a href=\"https://colab.research.google.com/github/soares1357/ALGESTDADOS_20251/blob/main/Lista_de_Exerc%C3%ADcios_Algorimo_I.ipynb\" target=\"_parent\"><img src=\"https://colab.research.google.com/assets/colab-badge.svg\" alt=\"Open In Colab\"/></a>"
      ]
    },
    {
      "cell_type": "markdown",
      "source": [
        "Washington Oliveira Soares"
      ],
      "metadata": {
        "id": "bkZGsDMoY3fX"
      }
    },
    {
      "cell_type": "code",
      "execution_count": 5,
      "metadata": {
        "colab": {
          "base_uri": "https://localhost:8080/"
        },
        "id": "MEkLUhBEXKQf",
        "outputId": "1c5780e1-b1dd-48fe-e00e-367f995c246e"
      },
      "outputs": [
        {
          "output_type": "stream",
          "name": "stdout",
          "text": [
            "qual o numero?1\n",
            "esse numero é igual ou maior que 50\n"
          ]
        }
      ],
      "source": [
        "#1. Peça um número ao usuário e verifique se ele é menor que 50. Informe o resultado com uma mensagem.\n",
        "\n",
        "numero = int (input('qual o numero?'))\n",
        "if numero > 50:\n",
        "  print('esse numero é menor que 50')\n",
        "else:\n",
        "  print('esse numero é igual ou maior que 50')\n"
      ]
    },
    {
      "cell_type": "code",
      "source": [
        "#2. Solicite um número ao usuário e informe se ele é divisível por 7. Para isso, utilize uma verificação simples.\n",
        "\n",
        "numero= int (input('número?'))\n",
        "if numero%7 == 0:\n",
        "  print('esse número é divísivel por 7')\n",
        "else:\n",
        "  print('esse número não é divísivel por 7')"
      ],
      "metadata": {
        "colab": {
          "base_uri": "https://localhost:8080/"
        },
        "id": "pm3LzszmXzKZ",
        "outputId": "7dae5e8a-c003-4159-9a1d-908b11a2c15e"
      },
      "execution_count": 6,
      "outputs": [
        {
          "output_type": "stream",
          "name": "stdout",
          "text": [
            "número?2\n",
            "esse número não é divísivel por 7\n"
          ]
        }
      ]
    },
    {
      "cell_type": "code",
      "source": [
        "#3. Peça um nome ao usuário e verifique se ele contém a letra \"o\". Exiba uma mensagem informando o resultado.\n",
        "\n",
        "pessoa= input('pessoa?')\n",
        "if 'o' in pessoa:\n",
        "  print('essa pessoa tem a letra O')\n",
        "else:\n",
        "  print('essa pessoa não tem a letra O')"
      ],
      "metadata": {
        "colab": {
          "base_uri": "https://localhost:8080/"
        },
        "id": "6mJwKIBUZSo4",
        "outputId": "481dc2ca-8d90-48c3-ca98-a3b66344bce9"
      },
      "execution_count": 7,
      "outputs": [
        {
          "output_type": "stream",
          "name": "stdout",
          "text": [
            "pessoa?Amanda\n",
            "essa pessoa não tem a letra O\n"
          ]
        }
      ]
    },
    {
      "cell_type": "code",
      "source": [
        "#4. Solicite um número inteiro e verifique se ele termina em 0. Utilize operações matemáticas para essa verificação.\n",
        "\n",
        "numero= int(input('Qual o número?'))\n",
        "if numero % 10 == 0:\n",
        "  print(f'{numero} termina em 0.')\n",
        "else:\n",
        "  print(f'{numero} não termina em 0.')"
      ],
      "metadata": {
        "id": "CnbZ4yI2ZgCZ",
        "colab": {
          "base_uri": "https://localhost:8080/"
        },
        "outputId": "675c9080-77de-4ec4-9191-4a67ed94d477"
      },
      "execution_count": 8,
      "outputs": [
        {
          "output_type": "stream",
          "name": "stdout",
          "text": [
            "Qual o número?533\n",
            "533 não termina em 0.\n"
          ]
        }
      ]
    },
    {
      "cell_type": "code",
      "source": [
        "#5. Peça a idade de uma pessoa e informe se ela tem idade suficiente para votar (considerando 16 anos como idade mínima).\n",
        "\n",
        "idade= int(input('Qual a sua idade?'))\n",
        "if idade >= 16:\n",
        "  print('Voce tem idade para votar')\n",
        "else:\n",
        "  print('Voce não pode votar')"
      ],
      "metadata": {
        "colab": {
          "base_uri": "https://localhost:8080/"
        },
        "id": "P04dkr_POmHY",
        "outputId": "85df2666-ec57-4d5b-e93b-4626c31d4650"
      },
      "execution_count": 10,
      "outputs": [
        {
          "output_type": "stream",
          "name": "stdout",
          "text": [
            "Qual a sua idade?70\n",
            "Voce tem idade para votar\n"
          ]
        }
      ]
    },
    {
      "cell_type": "code",
      "source": [
        "#6. Solicite ao usuário que digite um único caractere e informe se ele é uma vogal (a, e, i, o, u).\n",
        "\n",
        "carac= input(\"Digite alguma coisa  \")\n",
        "if carac.lower() in ('a', 'e', 'i', 'o', 'u'):\n",
        "  print('é uma vogal.')\n",
        "else:\n",
        "  print('não é uma vogal.')"
      ],
      "metadata": {
        "colab": {
          "base_uri": "https://localhost:8080/"
        },
        "id": "J-pjgUBOPncb",
        "outputId": "699ed3ca-64d6-42e7-d458-38dc86ed4a2d"
      },
      "execution_count": 11,
      "outputs": [
        {
          "output_type": "stream",
          "name": "stdout",
          "text": [
            "Digite alguma coisa  m\n",
            "não é uma vogal.\n"
          ]
        }
      ]
    },
    {
      "cell_type": "code",
      "source": [
        "#7. Peça a temperatura atual em graus Celsius e classifique-a como \"abaixo de zero\", \"entre 0°C e 20°C\" ou \"acima de 20°C\".\n",
        "\n",
        "temperatura= float(input('Qual a temperatura?'))\n",
        "if temperatura<= 0:\n",
        "  print('frio')\n",
        "elif 0<temperatura<20:\n",
        "  print('ambiente')\n",
        "else:\n",
        "  print('quente')"
      ],
      "metadata": {
        "colab": {
          "base_uri": "https://localhost:8080/"
        },
        "id": "C78tnTPKRAKO",
        "outputId": "62355696-2286-40e7-cf72-d2831ffb883d"
      },
      "execution_count": 12,
      "outputs": [
        {
          "output_type": "stream",
          "name": "stdout",
          "text": [
            "Qual a temperatura?36\n",
            "quente\n"
          ]
        }
      ]
    },
    {
      "cell_type": "code",
      "source": [
        "#8. Solicite um número e informe se ele é maior que 1000. Exiba uma mensagem apropriada.\n",
        "\n",
        "numero= float(input('qual o número?'))\n",
        "if numero > 1000:\n",
        "  print('maior que 1000')\n",
        "elif numero == 1000:\n",
        "  print('é 1000')\n",
        "else:\n",
        "  print(' menor que 1000')"
      ],
      "metadata": {
        "colab": {
          "base_uri": "https://localhost:8080/"
        },
        "id": "Q-jizxB-S9Q4",
        "outputId": "8e765db2-19c9-4eff-dae3-c14d9e94b953"
      },
      "execution_count": 13,
      "outputs": [
        {
          "output_type": "stream",
          "name": "stdout",
          "text": [
            "qual o número?3636\n",
            "maior que 1000\n"
          ]
        }
      ]
    },
    {
      "cell_type": "code",
      "source": [
        "#9. Peça um valor em reais e informe se ele é múltiplo de 50, ou seja, se o valor pode ser pago apenas com notas de R$50,00.\n",
        "\n",
        "dinheiro= float(input('quanto deve ser pago?'))\n",
        "if dinheiro % 50 == 0:\n",
        "  print('pode ser pago apenas notas de 50')\n",
        "else:\n",
        "  print('nao pode ser pago apenas com notas de 50')"
      ],
      "metadata": {
        "colab": {
          "base_uri": "https://localhost:8080/"
        },
        "id": "BMCtSaSaUKg0",
        "outputId": "968c0006-6bd0-47dc-b36a-2cbffa0da639"
      },
      "execution_count": 14,
      "outputs": [
        {
          "output_type": "stream",
          "name": "stdout",
          "text": [
            "quanto deve ser pago?800\n",
            "pode ser pago apenas notas de 50\n"
          ]
        }
      ]
    },
    {
      "cell_type": "code",
      "source": [
        "#10. Solicite um número ao usuário e verifique se ele está no intervalo entre 100 e 200 (inclusive). Informe o resultado.\n",
        "\n",
        "numero= float(input('qual o número?'))\n",
        "if numero<=100:\n",
        "  print(f'{numero}  menor que 100')\n",
        "elif 100<numero<200:\n",
        "  print(f'{numero} entre 100 e 200')\n",
        "else:\n",
        "  print(f'{numero} maior que 200')"
      ],
      "metadata": {
        "colab": {
          "base_uri": "https://localhost:8080/"
        },
        "id": "CDjmsIlgU7IJ",
        "outputId": "5a247068-debe-4eb3-9b99-60adec4f2982"
      },
      "execution_count": 15,
      "outputs": [
        {
          "output_type": "stream",
          "name": "stdout",
          "text": [
            "qual o número?133\n",
            "133.0 entre 100 e 200\n"
          ]
        }
      ]
    },
    {
      "cell_type": "code",
      "source": [
        " #Peça a altura de uma árvore em metros e informe se ela tem menos de 5 metros de altura.\n",
        "\n",
        "altura= float(input('qual a altura da arvore?(em Metros)'))\n",
        "if altura<=0:\n",
        "  print('altura invalida')\n",
        "elif altura<=5:\n",
        "  print('menor que 5 metros')\n",
        "else:\n",
        "  print('maior que 5 metros')\n"
      ],
      "metadata": {
        "colab": {
          "base_uri": "https://localhost:8080/"
        },
        "id": "vesOY4TvYODO",
        "outputId": "b4c7b33f-5816-4c0d-80dc-c310afadb267"
      },
      "execution_count": 17,
      "outputs": [
        {
          "output_type": "stream",
          "name": "stdout",
          "text": [
            "qual a altura da arvore?(em Metros)80\n",
            "maior que 5 metros\n"
          ]
        }
      ]
    },
    {
      "cell_type": "code",
      "source": [
        "#12. Solicite a temperatura de um líquido em graus Celsius e informe seu estado físico: \"congelado\" (≤0°C), \"líquido\" (0°C a 100°C) ou \"ebulição\" (>100°C).\n",
        "\n",
        "temperatura= float(input('qual a temperatura do liquido?  '))\n",
        "if temperatura<= 0:\n",
        "  print('congelado')\n",
        "elif 0<temperatura<=100:\n",
        "  print('liquido')\n",
        "else:\n",
        "  print('ebulição')"
      ],
      "metadata": {
        "colab": {
          "base_uri": "https://localhost:8080/"
        },
        "id": "RhupsQgUZLT1",
        "outputId": "e4239968-17b8-431a-ee4b-d702417a6d59"
      },
      "execution_count": 18,
      "outputs": [
        {
          "output_type": "stream",
          "name": "stdout",
          "text": [
            "qual a temperatura do liquido?  75\n",
            "liquido\n"
          ]
        }
      ]
    },
    {
      "cell_type": "code",
      "source": [
        "#13. Peça um número inteiro e verifique se ele é múltiplo de 10. Mostre uma mensagem indicando o resultado.\n",
        "\n",
        "numero= int(input('qual o numero? '))\n",
        "if numero % 10 == 0:\n",
        "  print(f'{numero} é multiplo de 10')\n",
        "else:\n",
        "  print(f'{numero} não é multiplo de 10')"
      ],
      "metadata": {
        "colab": {
          "base_uri": "https://localhost:8080/"
        },
        "id": "3WXUeQzDd9Ak",
        "outputId": "7374c075-4b0e-4c0c-e75f-4738543c2a54"
      },
      "execution_count": 19,
      "outputs": [
        {
          "output_type": "stream",
          "name": "stdout",
          "text": [
            "qual o numero? 5\n",
            "5 não é multiplo de 10\n"
          ]
        }
      ]
    },
    {
      "cell_type": "code",
      "source": [
        "#14. Solicite a nota final de dois alunos e exiba qual deles teve a maior pontuação.\n",
        "\n",
        "nota1 = float(input('qual a nota do aluno 1?'))\n",
        "nota2 = float(input('qual a nota do aluno 2?'))\n",
        "if nota1>nota2:\n",
        "  print('o aluno 1 tem mais nota que aluno 2')\n",
        "elif nota1==nota2:\n",
        "  print('os alunos tem a mesma nota')\n",
        "else:\n",
        "  print('o aluno 2 tem mais nota que o aluno 1')"
      ],
      "metadata": {
        "colab": {
          "base_uri": "https://localhost:8080/"
        },
        "id": "OdwvthKOe0Ky",
        "outputId": "796e8067-b658-4029-a2fc-6248daa50954"
      },
      "execution_count": 20,
      "outputs": [
        {
          "output_type": "stream",
          "name": "stdout",
          "text": [
            "qual a nota do aluno 1?20\n",
            "qual a nota do aluno 2?12\n",
            "o aluno 1 tem mais nota que aluno 2\n"
          ]
        }
      ]
    },
    {
      "cell_type": "code",
      "source": [
        "#15. Peça o nome de uma fruta e verifique se ela contém a letra \"e\". Exiba o resultado.\n",
        "\n",
        "fruta= input('qual o nome da fruta?  ')\n",
        "if 'e' in fruta or 'E' in fruta:\n",
        "  print(f'{fruta} tem a letra \"e\"')\n",
        "else:\n",
        "  print(f'{fruta} nao tem a letra \"e\"')"
      ],
      "metadata": {
        "colab": {
          "base_uri": "https://localhost:8080/"
        },
        "id": "Byu59LxBe596",
        "outputId": "5cd3aacd-85eb-4fb3-a0c2-0a19584585ff"
      },
      "execution_count": 21,
      "outputs": [
        {
          "output_type": "stream",
          "name": "stdout",
          "text": [
            "qual o nome da fruta?  morango\n",
            "morango nao tem a letra \"e\"\n"
          ]
        }
      ]
    },
    {
      "cell_type": "code",
      "source": [
        "#16. Peça a velocidade de um carro em km/h e informe se ela ultrapassa o limite de 80 km/h.\n",
        "\n",
        "velocidade = float(input('Digite a velocidade de um carro em km/h: '))\n",
        "if velocidade > 80:\n",
        "  print(f'O carro está com a velocidade acima de 80 km/h.')\n",
        "else:\n",
        "  print(f'O carro está com a velocidade abaixo de 80km/h.')"
      ],
      "metadata": {
        "colab": {
          "base_uri": "https://localhost:8080/"
        },
        "id": "-rqfpqJkVodd",
        "outputId": "5dd2813b-36cb-4291-81e3-d4d7b9055831"
      },
      "execution_count": 22,
      "outputs": [
        {
          "output_type": "stream",
          "name": "stdout",
          "text": [
            "Digite a velocidade de um carro em km/h: 65\n",
            "O carro está com a velocidade abaixo de 80km/h.\n"
          ]
        }
      ]
    },
    {
      "cell_type": "code",
      "source": [
        "#17. Solicite um número ao usuário e informe se ele é divisível por 4 ou por 5. Exiba uma mensagem adequada.\n",
        "\n",
        "numero = int(input('Digite um número: '))\n",
        "if numero%4==0 or numero%5==0 :\n",
        "  print(f'{numero} é divisível de 4 ou 5.')\n",
        "else:\n",
        "  print(f'{numero} não é divisível de 4 ou 5.')"
      ],
      "metadata": {
        "colab": {
          "base_uri": "https://localhost:8080/"
        },
        "id": "bfjY4QKuV9LF",
        "outputId": "4b5c8096-c26a-493f-9efb-084d6cd0af44"
      },
      "execution_count": 25,
      "outputs": [
        {
          "output_type": "stream",
          "name": "stdout",
          "text": [
            "Digite um número: 7\n",
            "7 não é divisível de 4 ou 5.\n"
          ]
        }
      ]
    },
    {
      "cell_type": "code",
      "source": [
        "#18. Peça uma palavra ao usuário e verifique se ela contém a letra \"z\". Mostre uma mensagem informando o resultado.\n",
        "\n",
        "palavra = input('Digite uma palavra: ')\n",
        "if 'Z' or 'z' in palavra:\n",
        "  print(f'{palavra} tem a letra Z.')\n",
        "else:\n",
        "  print(f'{palavra} não tem a letra Z.')"
      ],
      "metadata": {
        "colab": {
          "base_uri": "https://localhost:8080/"
        },
        "id": "Jc6SIZgTWBch",
        "outputId": "dce1f32d-7e37-4df5-8765-10a4052e28e8"
      },
      "execution_count": 26,
      "outputs": [
        {
          "output_type": "stream",
          "name": "stdout",
          "text": [
            "Digite uma palavra: Gay\n",
            "Gay tem a letra Z.\n"
          ]
        }
      ]
    },
    {
      "cell_type": "code",
      "source": [
        "#19. Solicite a quantidade de itens em um pedido e informe se ela é maior ou menor que 15 unidades.\n",
        "\n",
        "quant_pedido = int(input('Digite a quantidade de itens do pedido: '))\n",
        "if quant_pedido > 15:\n",
        "  print(f'Seu pedido tem mais de 15 unidades.')\n",
        "elif quant_pedido == 15:\n",
        "  print(f'Seu pedido tem 15 unidades.')\n",
        "else:\n",
        "  print(f'Seu pedido tem menos de 15 unidades.')"
      ],
      "metadata": {
        "colab": {
          "base_uri": "https://localhost:8080/"
        },
        "id": "O52J4AKpWGV9",
        "outputId": "44cad0d2-0677-4f15-8474-60fd144f4461"
      },
      "execution_count": 27,
      "outputs": [
        {
          "output_type": "stream",
          "name": "stdout",
          "text": [
            "Digite a quantidade de itens do pedido: 63\n",
            "Seu pedido tem mais de 15 unidades.\n"
          ]
        }
      ]
    },
    {
      "cell_type": "code",
      "source": [
        "#20. Peça um número e verifique se ele termina com o dígito 7. Informe o resultado.\n",
        "\n",
        "numero = int(input('Digite um número:'))\n",
        "if 7 == numero%10:\n",
        "  print(f'Seu número termina com o dígito 7.')\n",
        "else:\n",
        "  print(f'Seu número não termina com o dígito 7.')"
      ],
      "metadata": {
        "colab": {
          "base_uri": "https://localhost:8080/"
        },
        "id": "yeiCBzIxWKtt",
        "outputId": "0f629466-9a5a-48de-ab6b-e4fab987f551"
      },
      "execution_count": 28,
      "outputs": [
        {
          "output_type": "stream",
          "name": "stdout",
          "text": [
            "Digite um número:0\n",
            "Seu número não termina com o dígito 7.\n"
          ]
        }
      ]
    },
    {
      "cell_type": "code",
      "source": [
        "#21. Solicite o ano de fabricação de um veículo e informe se ele tem mais de 20 anos.\n",
        "\n",
        "ano = int(input('Digite o ano de fabricação do veículo:'))\n",
        "if 2025-ano > 20:\n",
        "  print(f'O veículo tem mais de 20 anos.')\n",
        "elif 2025-ano < 20:\n",
        "  print(f'O veiculo tem menos de 20 anos.')\n",
        "else:\n",
        "  print(f'O veículo tem 20 anos.')"
      ],
      "metadata": {
        "colab": {
          "base_uri": "https://localhost:8080/"
        },
        "id": "smjZRZg4WOSL",
        "outputId": "360d59fa-7e7f-489f-de4b-633f9fe26150"
      },
      "execution_count": 29,
      "outputs": [
        {
          "output_type": "stream",
          "name": "stdout",
          "text": [
            "Digite o ano de fabricação do veículo:2022\n",
            "O veiculo tem menos de 20 anos.\n"
          ]
        }
      ]
    },
    {
      "cell_type": "markdown",
      "source": [],
      "metadata": {
        "id": "hGfZwYhqYm-E"
      }
    },
    {
      "cell_type": "code",
      "source": [
        "#22. Peça um número de telefone e verifique se ele contém o dígito 9. Exiba o resultado.\n",
        "numero = input('Digite um número de telefone: ')\n",
        "if '9' in numero:\n",
        "  print(f'O número {numero} contém o dígito 9.')\n",
        "else:\n",
        "  print(f'O número {numero} não contém o dígito 9.')"
      ],
      "metadata": {
        "colab": {
          "base_uri": "https://localhost:8080/"
        },
        "id": "nfXvjq6PWTRv",
        "outputId": "91ce5ced-731a-4583-eecb-5b2daa98f211"
      },
      "execution_count": 30,
      "outputs": [
        {
          "output_type": "stream",
          "name": "stdout",
          "text": [
            "Digite um número de telefone: 999862556\n",
            "O número 999862556 contém o dígito 9.\n"
          ]
        }
      ]
    },
    {
      "cell_type": "code",
      "source": [
        "#23. Solicite um número e informe se ele possui exatamente 2 dígitos.\n",
        "\n",
        "numero = int(input('Digite um número:'))\n",
        "if 99 >= numero >= 10:\n",
        "  print(f'O número possui 2 dígitos.')\n",
        "else:\n",
        "  print(f'O número não possui dígitos.')"
      ],
      "metadata": {
        "colab": {
          "base_uri": "https://localhost:8080/"
        },
        "id": "rAkWM_MxWXBL",
        "outputId": "f43727b5-1882-4603-8bdc-c4d13cd367d2"
      },
      "execution_count": 31,
      "outputs": [
        {
          "output_type": "stream",
          "name": "stdout",
          "text": [
            "Digite um número:865\n",
            "O número não possui dígitos.\n"
          ]
        }
      ]
    },
    {
      "cell_type": "code",
      "source": [
        "#24. Peça o preço de um ingresso e aplique um desconto de 15%. Verifique se o preço com desconto ainda é superior a R$50,00 e exiba uma mensagem informando o resultado.\n",
        "preço_ingre = int(input('Digite o preço do ingresso: '))\n",
        "desconto = preço_ingre - (preço_ingre*15/100)\n",
        "if desconto > 50:\n",
        "  print(f'O preço do ingresso é {desconto} reais ou seja maior que 50 reais.')\n",
        "else:\n",
        "  print(f'O preço do ingresso é {desconto} reais ou seja menor que 50 reais.')"
      ],
      "metadata": {
        "colab": {
          "base_uri": "https://localhost:8080/"
        },
        "id": "gUD3PgAfWZOD",
        "outputId": "d1328720-c464-4141-b007-8490d1a9cc99"
      },
      "execution_count": 32,
      "outputs": [
        {
          "output_type": "stream",
          "name": "stdout",
          "text": [
            "Digite o preço do ingresso: 350\n",
            "O preço do ingresso é 297.5 reais ou seja maior que 50 reais.\n"
          ]
        }
      ]
    },
    {
      "cell_type": "code",
      "source": [
        "#25. Solicite um número ao usuário e informe se ele é divisível por 8. Exiba o resultado.\n",
        "\n",
        "numero = int(input('Digite um número: '))\n",
        "if numero%8 == 0:\n",
        "  print(f'O número {numero} é divisível por 8.')\n",
        "else:\n",
        "  print(f'O número {numero} não é divisível por 8.')"
      ],
      "metadata": {
        "colab": {
          "base_uri": "https://localhost:8080/"
        },
        "id": "9esH9UlFWeBu",
        "outputId": "e97a79d9-2bc4-4226-ba3f-25c233e8547a"
      },
      "execution_count": 33,
      "outputs": [
        {
          "output_type": "stream",
          "name": "stdout",
          "text": [
            "Digite um número: 53\n",
            "O número 53 não é divisível por 8.\n"
          ]
        }
      ]
    },
    {
      "cell_type": "code",
      "source": [
        "#26. Peça um número e verifique se ele é divisível tanto por 5 quanto por 9. Informe o resultado.\n",
        "\n",
        "numero = int(input('Digite um número: '))\n",
        "if numero%5 == 0 and numero%9 == 0:\n",
        "  print(f'O número {numero} é divisível tanto por 5 quanto por 9.')\n",
        "else:\n",
        "  print(f'O número {numero} não é divisível por 5 e por 9.')"
      ],
      "metadata": {
        "colab": {
          "base_uri": "https://localhost:8080/"
        },
        "id": "af4BC_oJWhcw",
        "outputId": "9deb8c6b-c3bc-4577-f024-d70cc5e5da7d"
      },
      "execution_count": 35,
      "outputs": [
        {
          "output_type": "stream",
          "name": "stdout",
          "text": [
            "Digite um número: 450\n",
            "O número 450 é divisível tanto por 5 quanto por 9.\n"
          ]
        }
      ]
    },
    {
      "cell_type": "code",
      "source": [
        "#27. Solicite o peso de um objeto em kg e informe se ele pesa mais de 25 kg.\n",
        "\n",
        "peso = float(input('Digite o peso do objeto em kg: '))\n",
        "if peso > 25:\n",
        "  print(f'O objeto pesa mais de 25 kg.')\n",
        "elif peso == 25:\n",
        "  print(f'O objeto pesa 25 kg.')\n",
        "else:\n",
        "  print(f'O objeto não pesa mais de 25 kg.')"
      ],
      "metadata": {
        "colab": {
          "base_uri": "https://localhost:8080/"
        },
        "id": "yfa22l2RWmW_",
        "outputId": "8796cb33-8545-4aeb-8bac-3fcb09be6042"
      },
      "execution_count": 36,
      "outputs": [
        {
          "output_type": "stream",
          "name": "stdout",
          "text": [
            "Digite o peso do objeto em kg: 65\n",
            "O objeto pesa mais de 25 kg.\n"
          ]
        }
      ]
    },
    {
      "cell_type": "code",
      "source": [
        "#28. Peça uma letra ao usuário e informe se ela é uma vogal ou uma consoante. Considere letras minúsculas e maiúsculas.\n",
        "\n",
        "letra = input('Digite uma letra: ')\n",
        "letra = letra.upper()\n",
        "if letra == 'A' or letra == 'E' or letra == 'I' or letra == 'O' or letra == 'U':\n",
        "  print(f'A letra {letra} é uma vogal.')\n",
        "else:\n",
        "  print(f'A letra {letra} é uma consoante.')"
      ],
      "metadata": {
        "colab": {
          "base_uri": "https://localhost:8080/"
        },
        "id": "lZkEhS46WqOu",
        "outputId": "d67f95b0-0504-44b2-f0f7-a99e33196ff8"
      },
      "execution_count": 37,
      "outputs": [
        {
          "output_type": "stream",
          "name": "stdout",
          "text": [
            "Digite uma letra: h\n",
            "A letra H é uma consoante.\n"
          ]
        }
      ]
    },
    {
      "cell_type": "code",
      "source": [
        "#29. Solicite a velocidade de um veículo e informe se ela está abaixo, dentro ou acima do limite de 60 km/h.\n",
        "\n",
        "velocidade = float(input('Digite a velocidade do veículo em km/h: '))\n",
        "if velocidade > 60:\n",
        "  print(f'acima do limite de 60 km/h.')\n",
        "elif velocidade < 30:\n",
        "  print(f'abaixo do limite de 60 km/h.')\n",
        "else:\n",
        "  print(f'dentro do limite de 60 km/h.')"
      ],
      "metadata": {
        "colab": {
          "base_uri": "https://localhost:8080/"
        },
        "id": "4DYF-0WpWt6o",
        "outputId": "3efb5674-d941-4e2d-f1aa-ffa7b41ff792"
      },
      "execution_count": 38,
      "outputs": [
        {
          "output_type": "stream",
          "name": "stdout",
          "text": [
            "Digite a velocidade do veículo em km/h: 250\n",
            "acima do limite de 60 km/h.\n"
          ]
        }
      ]
    },
    {
      "cell_type": "code",
      "source": [
        "#30. Peça um valor em reais ao usuário e verifique se ele é suficiente para comprar um produto que custa R$200,00. Exiba uma mensagem com a resposta.\n",
        "\n",
        "produto = float(input('Digite o valor em reais: '))\n",
        "if produto >= 200:\n",
        "  print(f'Você pode comprar o produto.')\n",
        "else:\n",
        "  print(f'Você não pode comprar o produto.')"
      ],
      "metadata": {
        "colab": {
          "base_uri": "https://localhost:8080/"
        },
        "id": "s_2LHDEmWxRR",
        "outputId": "6b3626cb-1bdb-4e23-9b40-39163f4a53b0"
      },
      "execution_count": 39,
      "outputs": [
        {
          "output_type": "stream",
          "name": "stdout",
          "text": [
            "Digite o valor em reais: 322\n",
            "Você pode comprar o produto.\n"
          ]
        }
      ]
    },
    {
      "cell_type": "code",
      "source": [],
      "metadata": {
        "id": "Lvgg_krFcVwb"
      },
      "execution_count": null,
      "outputs": []
    }
  ]
}