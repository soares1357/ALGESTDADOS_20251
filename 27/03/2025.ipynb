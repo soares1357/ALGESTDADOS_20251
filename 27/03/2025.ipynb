{
  "nbformat": 4,
  "nbformat_minor": 0,
  "metadata": {
    "colab": {
      "provenance": [],
      "authorship_tag": "ABX9TyMpZluDMeY71Bp8OqKMOaNu",
      "include_colab_link": true
    },
    "kernelspec": {
      "name": "python3",
      "display_name": "Python 3"
    },
    "language_info": {
      "name": "python"
    }
  },
  "cells": [
    {
      "cell_type": "markdown",
      "metadata": {
        "id": "view-in-github",
        "colab_type": "text"
      },
      "source": [
        "<a href=\"https://colab.research.google.com/github/soares1357/ALGESTDADOS_20251/blob/main/27/03/2025.ipynb\" target=\"_parent\"><img src=\"https://colab.research.google.com/assets/colab-badge.svg\" alt=\"Open In Colab\"/></a>"
      ]
    },
    {
      "cell_type": "code",
      "execution_count": 2,
      "metadata": {
        "colab": {
          "base_uri": "https://localhost:8080/",
          "height": 106
        },
        "id": "0iR8pdHQeZ0P",
        "outputId": "fa61ee6f-ea11-4af0-a4fe-5e7c68228eaf"
      },
      "outputs": [
        {
          "output_type": "error",
          "ename": "SyntaxError",
          "evalue": "invalid syntax (<ipython-input-2-7be2695d47fc>, line 6)",
          "traceback": [
            "\u001b[0;36m  File \u001b[0;32m\"<ipython-input-2-7be2695d47fc>\"\u001b[0;36m, line \u001b[0;32m6\u001b[0m\n\u001b[0;31m    if L1 == L2 AND L2 == L3:\u001b[0m\n\u001b[0m                ^\u001b[0m\n\u001b[0;31mSyntaxError\u001b[0m\u001b[0;31m:\u001b[0m invalid syntax\n"
          ]
        }
      ],
      "source": [
        "#Estruturas condicionais\n",
        "\n",
        "L1= float(input('Digite 1° lado do triangulo '))\n",
        "L2= float(input('Digite 2° lado do triangulo '))\n",
        "L3= float(input('Digite 3° lado do triangulo'))\n",
        "if L1 == L2 and L2 == L3:\n",
        "  print('Triangulo equilatero')\n",
        "elif L1==L2 or L1==L3 or L2==L3:\n",
        "  print('Triangulo isosceles')\n",
        "else L1=L2 or L2!=L3:\n",
        "  print('Triangulo escaleno')\n",
        ""
      ]
    },
    {
      "cell_type": "code",
      "source": [
        "# 2. Peça ao usuário um horário no formato 24h (por exemplo, 13:45) e converta para o formato 12h com AM/PM\n",
        "from datetime import datetime\n",
        "\n",
        "horario= input('Digite um horario no formato 24h: ')\n",
        "converter_hora = int(datetime.strptime(horario, '%H:%M').hour)\n",
        "converter_minuto = int(datetime.strptime(horario, '%H:%M').minute)\n",
        "\n",
        "#se for de 13 às 23 horas\n",
        "if hora > 12:\n",
        "  hora=hora -12\n",
        ""
      ],
      "metadata": {
        "colab": {
          "base_uri": "https://localhost:8080/",
          "height": 228
        },
        "id": "65ZOkxlck-WR",
        "outputId": "b826394f-58dc-4a32-9f61-d955463c6946"
      },
      "execution_count": 3,
      "outputs": [
        {
          "name": "stdout",
          "output_type": "stream",
          "text": [
            "Digite um horario no formato 24h: 12h\n",
            "Digite a hora: 13:00\n"
          ]
        },
        {
          "output_type": "error",
          "ename": "ValueError",
          "evalue": "could not convert string to float: '13:00'",
          "traceback": [
            "\u001b[0;31m---------------------------------------------------------------------------\u001b[0m",
            "\u001b[0;31mValueError\u001b[0m                                Traceback (most recent call last)",
            "\u001b[0;32m<ipython-input-3-912bf9fb25cc>\u001b[0m in \u001b[0;36m<cell line: 0>\u001b[0;34m()\u001b[0m\n\u001b[1;32m      2\u001b[0m \u001b[0;34m\u001b[0m\u001b[0m\n\u001b[1;32m      3\u001b[0m \u001b[0mhorario\u001b[0m\u001b[0;34m=\u001b[0m \u001b[0minput\u001b[0m\u001b[0;34m(\u001b[0m\u001b[0;34m'Digite um horario no formato 24h: '\u001b[0m\u001b[0;34m)\u001b[0m\u001b[0;34m\u001b[0m\u001b[0;34m\u001b[0m\u001b[0m\n\u001b[0;32m----> 4\u001b[0;31m \u001b[0mconverter_hora\u001b[0m \u001b[0;34m=\u001b[0m \u001b[0mfloat\u001b[0m\u001b[0;34m(\u001b[0m\u001b[0minput\u001b[0m\u001b[0;34m(\u001b[0m\u001b[0;34m'Digite a hora: '\u001b[0m\u001b[0;34m)\u001b[0m\u001b[0;34m)\u001b[0m\u001b[0;34m\u001b[0m\u001b[0;34m\u001b[0m\u001b[0m\n\u001b[0m\u001b[1;32m      5\u001b[0m \u001b[0mconverter_minuto\u001b[0m \u001b[0;34m=\u001b[0m \u001b[0mfloat\u001b[0m\u001b[0;34m(\u001b[0m\u001b[0minput\u001b[0m\u001b[0;34m(\u001b[0m\u001b[0;34m'Digite os minutos'\u001b[0m\u001b[0;34m)\u001b[0m\u001b[0;34m)\u001b[0m\u001b[0;34m\u001b[0m\u001b[0;34m\u001b[0m\u001b[0m\n",
            "\u001b[0;31mValueError\u001b[0m: could not convert string to float: '13:00'"
          ]
        }
      ]
    },
    {
      "cell_type": "code",
      "source": [
        "# 3. Solicite a idade de um nadador e classifique-o em uma categoria:\n",
        "\n"
      ],
      "metadata": {
        "id": "bZyv0FZ0mc5f"
      },
      "execution_count": null,
      "outputs": []
    }
  ]
}