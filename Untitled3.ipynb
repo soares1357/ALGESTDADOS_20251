{
  "nbformat": 4,
  "nbformat_minor": 0,
  "metadata": {
    "colab": {
      "provenance": [],
      "authorship_tag": "ABX9TyPcmwUMPd8re167xdvTHbeP",
      "include_colab_link": true
    },
    "kernelspec": {
      "name": "python3",
      "display_name": "Python 3"
    },
    "language_info": {
      "name": "python"
    }
  },
  "cells": [
    {
      "cell_type": "markdown",
      "metadata": {
        "id": "view-in-github",
        "colab_type": "text"
      },
      "source": [
        "<a href=\"https://colab.research.google.com/github/soares1357/ALGESTDADOS_20251/blob/main/Untitled3.ipynb\" target=\"_parent\"><img src=\"https://colab.research.google.com/assets/colab-badge.svg\" alt=\"Open In Colab\"/></a>"
      ]
    },
    {
      "cell_type": "code",
      "execution_count": 7,
      "metadata": {
        "colab": {
          "base_uri": "https://localhost:8080/"
        },
        "id": "N2hbyc5QWvE6",
        "outputId": "7a971abb-74ba-4acc-dc7e-00f0d159dafb"
      },
      "outputs": [
        {
          "output_type": "stream",
          "name": "stdout",
          "text": [
            "Valor [0][0]:2\n",
            "Valor [0][1]:2\n",
            "Valor [0][2]:2\n",
            "Valor [1][0]:3\n",
            "Valor [1][1]:3\n",
            "Valor [1][2]:5\n",
            "Valor [2][0]:5\n",
            "Valor [2][1]:3\n",
            "Valor [2][2]:3\n",
            "2 2 2 \n",
            "3 3 5 \n",
            "5 3 3 \n"
          ]
        }
      ],
      "source": [
        "#11 - Crie uma matriz 3x3 e preencha com valores fornecidos pelo usuário. Em seguida, exiba a matriz formatada.\n",
        "\n",
        "matriz = [] #cria a matriz vazia\n",
        "\n",
        "for i in range(3): #Roda a quantidade de linhas da matriz\n",
        "  lista = [] #Cria uma linha na matriz vazia\n",
        "  for j in range(3): #Roda os elementos inserindo valor para cada linha/coluna\n",
        "    num = int(input(f'Valor [{i}][{j}]:')) #Valor inserido pelo usuário\n",
        "    lista.append(num) #adiciona o valor na linha\n",
        "  matriz.append(lista) #adiciona linha na matriz\n",
        "\n",
        "\n",
        "for i in range(3): #roda a linha\n",
        "  for j in range(3): #roda a coluna\n",
        "    print(matriz[i][j],end=' ') #imprime a linha\n",
        "  print() #muda de linha\n",
        "\n"
      ]
    },
    {
      "cell_type": "code",
      "source": [
        "#12 - Gere uma matriz 4x4 com números aleatórios entre 1 e 20 e exiba a soma de todos os elementos.\n",
        "import random\n",
        "matriz = []\n",
        "for i in range (4):\n",
        "  matriz.append([])\n",
        "  for j in range (4):\n",
        "    matriz[i].append(random.randint(1,20))\n",
        "print(matriz)\n",
        "soma = 0\n",
        "for i in range (4):\n",
        "  for j in range (4):\n",
        "    soma += matriz[i][j]\n",
        "print(soma)"
      ],
      "metadata": {
        "colab": {
          "base_uri": "https://localhost:8080/"
        },
        "id": "EWHL33NDYpuT",
        "outputId": "5828758c-516e-4f94-a478-c5ccafdf980a"
      },
      "execution_count": 6,
      "outputs": [
        {
          "output_type": "stream",
          "name": "stdout",
          "text": [
            "[[16, 20, 2, 4], [17, 17, 15, 3], [3, 19, 6, 14], [13, 14, 17, 12]]\n",
            "192\n"
          ]
        }
      ]
    },
    {
      "cell_type": "code",
      "source": [
        "#13 - Dada uma matriz 3x3 com números inteiros, exiba a soma dos elementos da diagonal principal.\n",
        "matriz = []\n",
        "for i in range (3):\n",
        "  matriz.append([])\n",
        "  for j in range (3):\n",
        "    matriz[i].append(int(input(f'Valor [{i}][{j}]:')))\n",
        "print(matriz)"
      ],
      "metadata": {
        "colab": {
          "base_uri": "https://localhost:8080/"
        },
        "id": "X1d1cX8WaCTT",
        "outputId": "2a819c24-b6ca-4393-ef5f-016d0a38af18"
      },
      "execution_count": 8,
      "outputs": [
        {
          "output_type": "stream",
          "name": "stdout",
          "text": [
            "Valor [0][0]:2\n",
            "Valor [0][1]:3\n",
            "Valor [0][2]:5\n",
            "Valor [1][0]:6\n",
            "Valor [1][1]:6\n",
            "Valor [1][2]:5\n",
            "Valor [2][0]:7\n",
            "Valor [2][1]:25\n",
            "Valor [2][2]:26\n",
            "[[2, 3, 5], [6, 6, 5], [7, 25, 26]]\n"
          ]
        }
      ]
    },
    {
      "cell_type": "code",
      "source": [
        "#14 - Leia uma matriz 2x3 e uma matriz 3x2. Em seguida, calcule e exiba a matriz produto (multiplicação de matrizes).\n",
        "matriz1 = []\n",
        "for i in range (2):\n",
        "  matriz1.append([])\n",
        "  for j in range (3):\n",
        "    matriz1[i].append(int(input(f'Valor [{i}][{j}]:')))\n",
        "print(matriz1)"
      ],
      "metadata": {
        "colab": {
          "base_uri": "https://localhost:8080/"
        },
        "id": "iTV5GM9naFxi",
        "outputId": "89af19a9-55ee-46f7-d67c-5a40490a00e9"
      },
      "execution_count": 9,
      "outputs": [
        {
          "output_type": "stream",
          "name": "stdout",
          "text": [
            "Valor [0][0]:12\n",
            "Valor [0][1]:32\n",
            "Valor [0][2]:32\n",
            "Valor [1][0]:11\n",
            "Valor [1][1]:11\n",
            "Valor [1][2]:14\n",
            "[[12, 32, 32], [11, 11, 14]]\n"
          ]
        }
      ]
    },
    {
      "cell_type": "code",
      "source": [
        "#15 - Crie uma matriz 3x3 com valores inteiros. Conte quantos números pares ela possui.\n"
      ],
      "metadata": {
        "id": "EFb4_qGEaKYL"
      },
      "execution_count": null,
      "outputs": []
    },
    {
      "cell_type": "code",
      "source": [
        "#16 - Gere uma matriz 5x5 onde cada elemento seja igual à soma de sua linha e coluna (i + j)."
      ],
      "metadata": {
        "id": "N0oQQJC3aOID"
      },
      "execution_count": null,
      "outputs": []
    },
    {
      "cell_type": "code",
      "source": [
        "#17 - Dada uma matriz 4x4, encontre e exiba o maior elemento da matriz e sua posição (linha, coluna).\n"
      ],
      "metadata": {
        "id": "qelI6vY9aR1b"
      },
      "execution_count": null,
      "outputs": []
    },
    {
      "cell_type": "code",
      "source": [
        "#18 - Crie uma matriz identidade de ordem 4 (1s na diagonal principal e 0s no restante)."
      ],
      "metadata": {
        "id": "c7kGHSIbaVXr"
      },
      "execution_count": null,
      "outputs": []
    },
    {
      "cell_type": "code",
      "source": [
        "#19 - Leia uma matriz 3x3 e exiba sua transposta (troca de linhas por colunas)."
      ],
      "metadata": {
        "id": "hWqLERg2aYSD"
      },
      "execution_count": null,
      "outputs": []
    },
    {
      "cell_type": "code",
      "source": [
        "#20 - Crie uma matriz 3x3 com valores fornecidos pelo usuário e verifique se ela é simétrica (igual à sua transposta)."
      ],
      "metadata": {
        "id": "AB50SU9MabYz"
      },
      "execution_count": null,
      "outputs": []
    }
  ]
}